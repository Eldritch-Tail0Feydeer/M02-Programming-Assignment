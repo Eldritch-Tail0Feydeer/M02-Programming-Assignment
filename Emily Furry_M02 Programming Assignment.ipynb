{
 "cells": [
  {
   "cell_type": "code",
   "execution_count": 2,
   "id": "723bad73",
   "metadata": {},
   "outputs": [
    {
     "name": "stdout",
     "output_type": "stream",
     "text": [
      "Too low.\n"
     ]
    }
   ],
   "source": [
    "# 4.1 Choose a number between 1 and 10 and assign it to the variable secret. \n",
    "# Then, select another number between 1 and 10 and assign it to the variable guess. \n",
    "# Next, write the conditional tests (if, else, and elif) to print the string 'too low' \n",
    "# if guess is less than secret, 'too high' if greater than secret, and 'just right' \n",
    "# if equal to secret.\n",
    "\n",
    "secret = 7\n",
    "\n",
    "guess = 1\n",
    "\n",
    "if guess == secret:\n",
    "    print(\"Just right!\")\n",
    "elif guess > secret:\n",
    "    print(\"Too high.\")\n",
    "elif guess < secret:\n",
    "    print(\"Too low.\")\n",
    "else:\n",
    "    print(\"Invalid guess.\")"
   ]
  },
  {
   "cell_type": "code",
   "execution_count": 4,
   "id": "229ea0dd",
   "metadata": {},
   "outputs": [
    {
     "name": "stdout",
     "output_type": "stream",
     "text": [
      "It is a watermelon\n"
     ]
    }
   ],
   "source": [
    "# 4.2 Assign True or False to the variables small and green.\n",
    "# Write some if/else statements to print which of these matches \n",
    "# those choices: cherry, pea, watermelon, pumpkin.\n",
    "\n",
    "small = False\n",
    "green = True\n",
    "\n",
    "if small == True:\n",
    "    if green == True:\n",
    "        food = \"pea\"\n",
    "    else:\n",
    "        food = \"cherry\"\n",
    "else: \n",
    "    if green == True:\n",
    "        food = \"watermelon\"\n",
    "    else:\n",
    "        food = \"pumpkin\"\n",
    "        \n",
    "print(\"It is a \" + food)"
   ]
  },
  {
   "cell_type": "code",
   "execution_count": 8,
   "id": "2de1f1b6",
   "metadata": {},
   "outputs": [
    {
     "name": "stdout",
     "output_type": "stream",
     "text": [
      "3\n",
      "2\n",
      "1\n",
      "0\n"
     ]
    }
   ],
   "source": [
    "# 6.1 Use a for loop to print the values of the list [3, 2, 1, 0].\n",
    "nums = [3, 2, 1, 0]\n",
    "for i in nums:\n",
    "    print(i)"
   ]
  },
  {
   "cell_type": "code",
   "execution_count": 10,
   "id": "b10551bc",
   "metadata": {},
   "outputs": [
    {
     "name": "stdout",
     "output_type": "stream",
     "text": [
      "Too low.\n",
      "Too low.\n",
      "Too low.\n",
      "Too low.\n",
      "Too low.\n",
      "Too low.\n",
      "Found it!\n"
     ]
    }
   ],
   "source": [
    "# 6.2 Assign the value 7 to the variable guess_me, and the value 1 to the variable number. \n",
    "# Write a while loop that compares number with guess_me. Print 'too low' if number is less \n",
    "# than guess me. If number equals guess_me, print 'found it!' and then exit the loop. \n",
    "# If number is greater than guess_me, print 'oops' and then exit the loop. Increment number \n",
    "# at the end of the loop.\n",
    "\n",
    "guess_me = 7\n",
    "\n",
    "VarNum = 1\n",
    "\n",
    "while VarNum != 7:\n",
    "    if VarNum < guess_me:\n",
    "        print(\"Too low.\")\n",
    "        VarNum += 1\n",
    "    elif Varnum > guess_me:\n",
    "        print(\"Oops\")\n",
    "        break\n",
    "else:\n",
    "    print(\"Found it!\")\n"
   ]
  },
  {
   "cell_type": "code",
   "execution_count": 13,
   "id": "a6d5dc4c",
   "metadata": {},
   "outputs": [
    {
     "name": "stdout",
     "output_type": "stream",
     "text": [
      "Too low.\n",
      "Too low.\n",
      "Too low.\n",
      "Too low.\n",
      "Too low.\n",
      "Found it!\n"
     ]
    }
   ],
   "source": [
    "# 6.3 Assign the value 5 to the variable guess_me. \n",
    "# Use a for loop to iterate a variable called number \n",
    "# over range(10). If number is less than guess_me, \n",
    "# print 'too low'. If it equals guess_me, print found it! \n",
    "# and then break out of the for loop. If number is greater \n",
    "# than guess_me, print 'oops' and then exit the loop.\n",
    "\n",
    "guess_me = 5\n",
    "\n",
    "for i in range(10):\n",
    "    if i > guess_me:\n",
    "        print(\"Oops\")\n",
    "        break\n",
    "    elif i < guess_me:\n",
    "        print(\"Too low.\")\n",
    "    else:\n",
    "        print(\"Found it!\")\n",
    "        break"
   ]
  },
  {
   "cell_type": "code",
   "execution_count": null,
   "id": "a71b5f1e",
   "metadata": {},
   "outputs": [],
   "source": []
  }
 ],
 "metadata": {
  "kernelspec": {
   "display_name": "Python 3 (ipykernel)",
   "language": "python",
   "name": "python3"
  },
  "language_info": {
   "codemirror_mode": {
    "name": "ipython",
    "version": 3
   },
   "file_extension": ".py",
   "mimetype": "text/x-python",
   "name": "python",
   "nbconvert_exporter": "python",
   "pygments_lexer": "ipython3",
   "version": "3.10.9"
  }
 },
 "nbformat": 4,
 "nbformat_minor": 5
}
